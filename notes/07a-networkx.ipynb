{
 "cells": [
  {
   "cell_type": "markdown",
   "id": "c8235cae",
   "metadata": {},
   "source": [
    "We have seen a lot of great tools so far for data mining.  Today, we are going to get into a great tool for working with graphs called [networkx](https://networkx.org/).  Lets start our environment\n",
    "\n",
    "    conda activate csci347\n",
    "\n",
    "and add networkx to our environment\n",
    "\n",
    "    conda install networkx\n",
    "    \n",
    "And to make sure that you are versioning your environemtn\n",
    "\n",
    "    conda env export > environment.yml\n",
    "\n",
    "Now let's get to it!  We will start by importing networkx\n"
   ]
  },
  {
   "cell_type": "code",
   "execution_count": 1,
   "id": "478c3c28",
   "metadata": {},
   "outputs": [],
   "source": [
    "import numpy as np\n",
    "import matplotlib.pyplot as plt\n",
    "\n",
    "import networkx as nx"
   ]
  },
  {
   "cell_type": "markdown",
   "id": "89b4de01",
   "metadata": {},
   "source": [
    "Now, let's do some simple operations like creating a graph and looking at some descriptive statistics.  First, let's create an undirected graph:"
   ]
  },
  {
   "cell_type": "code",
   "execution_count": 2,
   "id": "a8155d49",
   "metadata": {},
   "outputs": [],
   "source": [
    "G = nx.Graph()"
   ]
  },
  {
   "cell_type": "markdown",
   "id": "c60faa46",
   "metadata": {},
   "source": [
    "And then add some edges:"
   ]
  },
  {
   "cell_type": "code",
   "execution_count": 3,
   "id": "bf31706e",
   "metadata": {},
   "outputs": [],
   "source": [
    "G.add_edge('A', 'B')\n",
    "G.add_edge('A', 'C')\n",
    "G.add_edge('A', 'E')\n",
    "G.add_edge('B', 'C')\n",
    "G.add_edge('B', 'D')\n",
    "G.add_edge('C', 'E')\n",
    "G.add_edge('D', 'E')"
   ]
  },
  {
   "cell_type": "markdown",
   "id": "65ce5249",
   "metadata": {},
   "source": [
    "And let's visualize this graph:"
   ]
  },
  {
   "cell_type": "code",
   "execution_count": 4,
   "id": "ed268cc2",
   "metadata": {},
   "outputs": [
    {
     "data": {
      "image/png": "[encoded data removed]",
      "text/plain": [
       "<Figure size 432x288 with 1 Axes>"
      ]
     },
     "metadata": {},
     "output_type": "display_data"
    }
   ],
   "source": [
    "nx.draw_networkx(G)"
   ]
  },
  {
   "cell_type": "markdown",
   "id": "c47f5bd6",
   "metadata": {},
   "source": [
    "Note that graphx is intended for graph analysis and not graph visualiztion.  There is some discussion of removing viz from graphx and moving it to an add-on.  Graph drawing is complex (I cover some basics in my grad comp geom course), so if you need sophisticated viz, I recommend using a dedicated graph viz tool like [pygraphviz](https://pygraphviz.github.io/)\n",
    "\n",
    "Great!  Now let's get some descriptive stats on the graph."
   ]
  },
  {
   "cell_type": "code",
   "execution_count": 5,
   "id": "d81f8a84",
   "metadata": {},
   "outputs": [
    {
     "data": {
      "text/plain": [
       "'Graph with 5 nodes and 7 edges'"
      ]
     },
     "execution_count": 5,
     "metadata": {},
     "output_type": "execute_result"
    }
   ],
   "source": [
    "nx.info(G)"
   ]
  },
  {
   "cell_type": "markdown",
   "id": "8ce58dfd",
   "metadata": {},
   "source": [
    "For most of our analysis, we turned our graph into an adjacency matrix.  So as you would expect, there is a function to do that for us:"
   ]
  },
  {
   "cell_type": "code",
   "execution_count": 6,
   "id": "126d24ed",
   "metadata": {},
   "outputs": [],
   "source": [
    "A = nx.adjacency_matrix(G)"
   ]
  },
  {
   "cell_type": "markdown",
   "id": "2e53e3c4",
   "metadata": {},
   "source": [
    "Let's look at some props about the matrix"
   ]
  },
  {
   "cell_type": "code",
   "execution_count": 7,
   "id": "62d7bbdc",
   "metadata": {},
   "outputs": [
    {
     "data": {
      "text/plain": [
       "<5x5 sparse matrix of type '<class 'numpy.int64'>'\n",
       "\twith 14 stored elements in Compressed Sparse Row format>"
      ]
     },
     "execution_count": 7,
     "metadata": {},
     "output_type": "execute_result"
    }
   ],
   "source": [
    "A"
   ]
  },
  {
   "cell_type": "markdown",
   "id": "e76f3530",
   "metadata": {},
   "source": [
    "And the actual content of the matrix"
   ]
  },
  {
   "cell_type": "code",
   "execution_count": 8,
   "id": "2ca16337",
   "metadata": {},
   "outputs": [
    {
     "name": "stdout",
     "output_type": "stream",
     "text": [
      "  (0, 1)\t1\n",
      "  (0, 2)\t1\n",
      "  (0, 3)\t1\n",
      "  (1, 0)\t1\n",
      "  (1, 2)\t1\n",
      "  (1, 4)\t1\n",
      "  (2, 0)\t1\n",
      "  (2, 1)\t1\n",
      "  (2, 3)\t1\n",
      "  (3, 0)\t1\n",
      "  (3, 2)\t1\n",
      "  (3, 4)\t1\n",
      "  (4, 1)\t1\n",
      "  (4, 3)\t1\n"
     ]
    }
   ],
   "source": [
    "print(A)"
   ]
  },
  {
   "cell_type": "code",
   "execution_count": 9,
   "id": "4ced6f7b",
   "metadata": {},
   "outputs": [
    {
     "data": {
      "text/plain": [
       "scipy.sparse._csr.csr_matrix"
      ]
     },
     "execution_count": 9,
     "metadata": {},
     "output_type": "execute_result"
    }
   ],
   "source": [
    "type(A)"
   ]
  },
  {
   "cell_type": "markdown",
   "id": "000a02e4",
   "metadata": {},
   "source": [
    "Note that we have a sparse matrix representation from scipy.  Scipy is a great library that was a dependency of a few of the libraries that we have used so far.  While we will not spend much time with scipy, it has lots of great functions for doing scientific computing with python.\n",
    "\n",
    "A sparse matrix rep is very helpful for some applications and not helpful for others (but sparse is a reasonable default option).  We can make the graph in to a dense matrix:"
   ]
  },
  {
   "cell_type": "code",
   "execution_count": 10,
   "id": "906909f7",
   "metadata": {},
   "outputs": [
    {
     "data": {
      "text/plain": [
       "matrix([[0, 1, 1, 1, 0],\n",
       "        [1, 0, 1, 0, 1],\n",
       "        [1, 1, 0, 1, 0],\n",
       "        [1, 0, 1, 0, 1],\n",
       "        [0, 1, 0, 1, 0]])"
      ]
     },
     "execution_count": 10,
     "metadata": {},
     "output_type": "execute_result"
    }
   ],
   "source": [
    "A.todense()"
   ]
  },
  {
   "cell_type": "markdown",
   "id": "c2309fe5",
   "metadata": {},
   "source": [
    "Note that since our matrix is undirected, it is symetric.  Let's use some code to verify:"
   ]
  },
  {
   "cell_type": "code",
   "execution_count": 11,
   "id": "a292d1c7",
   "metadata": {},
   "outputs": [
    {
     "data": {
      "text/plain": [
       "True"
      ]
     },
     "execution_count": 11,
     "metadata": {},
     "output_type": "execute_result"
    }
   ],
   "source": [
    "np.all(A.transpose().todense() == A.todense())"
   ]
  },
  {
   "cell_type": "markdown",
   "id": "03b2898b",
   "metadata": {},
   "source": [
    "There is some functionality to get the degree of verts.  For example, let's get the degree of vertex with label 'A' and the degree of all verts"
   ]
  },
  {
   "cell_type": "code",
   "execution_count": 12,
   "id": "62c345ee",
   "metadata": {},
   "outputs": [
    {
     "data": {
      "text/plain": [
       "3"
      ]
     },
     "execution_count": 12,
     "metadata": {},
     "output_type": "execute_result"
    }
   ],
   "source": [
    "nx.degree(G, 'A')"
   ]
  },
  {
   "cell_type": "code",
   "execution_count": 13,
   "id": "b80dcd6c",
   "metadata": {},
   "outputs": [
    {
     "data": {
      "text/plain": [
       "DegreeView({'A': 3, 'B': 3, 'C': 3, 'E': 3, 'D': 2})"
      ]
     },
     "execution_count": 13,
     "metadata": {},
     "output_type": "execute_result"
    }
   ],
   "source": [
    "nx.degree(G)"
   ]
  },
  {
   "cell_type": "markdown",
   "id": "95757f53",
   "metadata": {},
   "source": [
    "Let's see how to combine a few tool and plot a histogram of the node degrees in the graph."
   ]
  },
  {
   "cell_type": "code",
   "execution_count": 14,
   "id": "84f1a39f",
   "metadata": {},
   "outputs": [],
   "source": [
    "deg_view = nx.degree(G)\n",
    "deg_vals = dict(deg_view).values()"
   ]
  },
  {
   "cell_type": "markdown",
   "id": "17d9086e",
   "metadata": {},
   "source": [
    "Let's break down that previous code block.  We saw that `nx.degree(G)` gives us the degees of each vert, but for a histogram, we need to give a list of values (and then the histogram functins figures out the counts). \n",
    "To get just the degrees, first we will take `deg_view` and cast it to a dictonary (e,g. `dict`) with:\n",
    "    \n",
    "    dict(deg_view)\n",
    "\n",
    "In python, a dict has a key-value structur.  But, we don't really care about the key-value mappings, we just want the values. And we are in luck, the dict has a function that just gives us the values (like we need for creating a histogram)  `dict.values()`.   \n",
    "\n",
    "Putting that all toget, we cast the `deg_view` to a dictionary and then use the `values()` function to just get the value form the dict.\n",
    "\n",
    "Mow we have the data, let's plot!"
   ]
  },
  {
   "cell_type": "code",
   "execution_count": 15,
   "id": "44ad4c37",
   "metadata": {},
   "outputs": [
    {
     "data": {
      "text/plain": [
       "Text(0, 0.5, 'number of nodes with degree')"
      ]
     },
     "execution_count": 15,
     "metadata": {},
     "output_type": "execute_result"
    },
    {
     "data": {
      "image/png": "[encoded data removed]",
      "text/plain": [
       "<Figure size 432x288 with 1 Axes>"
      ]
     },
     "metadata": {
      "needs_background": "light"
     },
     "output_type": "display_data"
    }
   ],
   "source": [
    "plt.hist(deg_vals)\n",
    "plt.xlabel('degree')\n",
    "plt.ylabel('number of nodes with degree')"
   ]
  },
  {
   "cell_type": "markdown",
   "id": "83402868",
   "metadata": {},
   "source": [
    "Next, let's take a look at some of the centrality measures that we learned about.  Let's use a bit more interesting of a graph though."
   ]
  },
  {
   "cell_type": "code",
   "execution_count": 16,
   "id": "203c3791",
   "metadata": {},
   "outputs": [
    {
     "data": {
      "image/png": "[encoded data removed]",
      "text/plain": [
       "<Figure size 432x288 with 1 Axes>"
      ]
     },
     "metadata": {},
     "output_type": "display_data"
    }
   ],
   "source": [
    "G = nx.Graph()\n",
    "\n",
    "G.add_edge(1,2)\n",
    "G.add_edge(1,3)\n",
    "G.add_edge(1,4)\n",
    "G.add_edge(1,5)\n",
    "G.add_edge(2,3)\n",
    "G.add_edge(2,5)\n",
    "G.add_edge(3,4)\n",
    "G.add_edge(3,5)\n",
    "G.add_edge(4,5)\n",
    "G.add_edge(5,6)\n",
    "G.add_edge(6,7)\n",
    "G.add_edge(6,8)\n",
    "G.add_edge(6,9)\n",
    "G.add_edge(7,8)\n",
    "G.add_edge(7,9)\n",
    "G.add_edge(8,9)\n",
    "G.add_edge(8,10)\n",
    "G.add_edge(8,11)\n",
    "G.add_edge(9,10)\n",
    "G.add_edge(10,11)\n",
    "\n",
    "nx.draw(G, with_labels=True, font_color=\"white\")"
   ]
  },
  {
   "cell_type": "markdown",
   "id": "7269ab41",
   "metadata": {},
   "source": [
    "And quickly, let's take a look at the degree histogram"
   ]
  },
  {
   "cell_type": "code",
   "execution_count": 17,
   "id": "ef48514f",
   "metadata": {},
   "outputs": [
    {
     "data": {
      "text/plain": [
       "Text(0, 0.5, 'number of nodes with degree')"
      ]
     },
     "execution_count": 17,
     "metadata": {},
     "output_type": "execute_result"
    },
    {
     "data": {
      "image/png": "[encoded data removed]",
      "text/plain": [
       "<Figure size 432x288 with 1 Axes>"
      ]
     },
     "metadata": {
      "needs_background": "light"
     },
     "output_type": "display_data"
    }
   ],
   "source": [
    "deg_vals = dict(nx.degree(G)).values()\n",
    "plt.hist(deg_vals)\n",
    "plt.xlabel('degree')\n",
    "plt.ylabel('number of nodes with degree')"
   ]
  },
  {
   "cell_type": "markdown",
   "id": "c8b3cd97",
   "metadata": {},
   "source": [
    "Great!  Now, let's start off with what we just learned.  Clustering coeff!"
   ]
  },
  {
   "cell_type": "code",
   "execution_count": 18,
   "id": "b45407ad",
   "metadata": {},
   "outputs": [
    {
     "data": {
      "text/plain": [
       "{1: 0.8333333333333334,\n",
       " 2: 1.0,\n",
       " 3: 0.8333333333333334,\n",
       " 4: 1.0,\n",
       " 5: 0.5,\n",
       " 6: 0.5,\n",
       " 7: 1.0,\n",
       " 8: 0.5,\n",
       " 9: 0.6666666666666666,\n",
       " 10: 0.6666666666666666,\n",
       " 11: 1.0}"
      ]
     },
     "execution_count": 18,
     "metadata": {},
     "output_type": "execute_result"
    }
   ],
   "source": [
    "nx.clustering(G)"
   ]
  },
  {
   "cell_type": "markdown",
   "id": "408ad17b",
   "metadata": {},
   "source": [
    "We also saw that we can use clustering coeff as a global measure of the graph by summing up the clutering coeff of each node.  This is easy to compute:"
   ]
  },
  {
   "cell_type": "code",
   "execution_count": 19,
   "id": "d7854f78",
   "metadata": {},
   "outputs": [
    {
     "data": {
      "text/plain": [
       "0.7727272727272727"
      ]
     },
     "execution_count": 19,
     "metadata": {},
     "output_type": "execute_result"
    }
   ],
   "source": [
    "sum(nx.clustering(G).values()) / G.number_of_nodes()"
   ]
  },
  {
   "cell_type": "markdown",
   "id": "837def3e",
   "metadata": {},
   "source": [
    "Recall that if we have a node with degree less than 2, the clustering coeff of that node is 0.  So, let's add a degree 1 node.  I asked Prof Barktreuse what she thinks will happen to the clustering coeff.  She suspects that it will decrease.  Let's test it out:"
   ]
  },
  {
   "cell_type": "code",
   "execution_count": 20,
   "id": "532a70c1",
   "metadata": {},
   "outputs": [
    {
     "data": {
      "image/png": "[encoded data removed]",
      "text/plain": [
       "<Figure size 432x288 with 1 Axes>"
      ]
     },
     "metadata": {},
     "output_type": "display_data"
    }
   ],
   "source": [
    "G.add_edge(11,12)\n",
    "nx.draw(G, with_labels=True, font_color=\"white\")"
   ]
  },
  {
   "cell_type": "code",
   "execution_count": 21,
   "id": "b5d33f8f",
   "metadata": {},
   "outputs": [
    {
     "data": {
      "text/plain": [
       "0.6527777777777778"
      ]
     },
     "execution_count": 21,
     "metadata": {},
     "output_type": "execute_result"
    }
   ],
   "source": [
    "sum(nx.clustering(G).values()) / G.number_of_nodes()"
   ]
  },
  {
   "cell_type": "markdown",
   "id": "4c92172b",
   "metadata": {},
   "source": [
    "Yep, indeed, it decreased.  Prof Barktreuse was right again!"
   ]
  },
  {
   "cell_type": "markdown",
   "id": "782062ee",
   "metadata": {},
   "source": [
    "NetworkX is also useful for some basic graph algos as well, such as finding lengths of shotest paths:"
   ]
  },
  {
   "cell_type": "code",
   "execution_count": 22,
   "id": "07de1d7d",
   "metadata": {},
   "outputs": [
    {
     "data": {
      "text/plain": [
       "[3, 5, 6, 8, 11, 12]"
      ]
     },
     "execution_count": 22,
     "metadata": {},
     "output_type": "execute_result"
    }
   ],
   "source": [
    "nx.shortest_path(G, 3, 12)"
   ]
  },
  {
   "cell_type": "code",
   "execution_count": 23,
   "id": "adf81672",
   "metadata": {},
   "outputs": [
    {
     "data": {
      "text/plain": [
       "5"
      ]
     },
     "execution_count": 23,
     "metadata": {},
     "output_type": "execute_result"
    }
   ],
   "source": [
    "nx.shortest_path_length(G, 3, 12)"
   ]
  },
  {
   "cell_type": "markdown",
   "id": "10b80e72",
   "metadata": {},
   "source": [
    "And, we can compute all the versions of centrality that we discussed"
   ]
  },
  {
   "cell_type": "code",
   "execution_count": 24,
   "id": "934a03c1",
   "metadata": {},
   "outputs": [
    {
     "data": {
      "text/plain": [
       "{1: 0.00606060606060606,\n",
       " 2: 0.0,\n",
       " 3: 0.00606060606060606,\n",
       " 4: 0.0,\n",
       " 5: 0.5151515151515151,\n",
       " 6: 0.5454545454545454,\n",
       " 7: 0.0,\n",
       " 8: 0.33636363636363636,\n",
       " 9: 0.06363636363636363,\n",
       " 10: 0.01818181818181818,\n",
       " 11: 0.18181818181818182,\n",
       " 12: 0.0}"
      ]
     },
     "execution_count": 24,
     "metadata": {},
     "output_type": "execute_result"
    }
   ],
   "source": [
    "nx.betweenness_centrality(G)"
   ]
  },
  {
   "cell_type": "code",
   "execution_count": 25,
   "id": "468d53d8",
   "metadata": {},
   "outputs": [
    {
     "data": {
      "text/plain": [
       "{1: 0.3333333333333333,\n",
       " 2: 0.0,\n",
       " 3: 0.3333333333333333,\n",
       " 4: 0.0,\n",
       " 5: 28.333333333333332,\n",
       " 6: 30.0,\n",
       " 7: 0.0,\n",
       " 8: 18.5,\n",
       " 9: 3.5,\n",
       " 10: 1.0,\n",
       " 11: 10.0,\n",
       " 12: 0.0}"
      ]
     },
     "execution_count": 25,
     "metadata": {},
     "output_type": "execute_result"
    }
   ],
   "source": [
    "# using definition in the slides\n",
    "nx.betweenness_centrality(G, normalized=False)"
   ]
  },
  {
   "cell_type": "code",
   "execution_count": 26,
   "id": "042348e9",
   "metadata": {},
   "outputs": [
    {
     "data": {
      "text/plain": [
       "{1: 0.36627729862767705,\n",
       " 2: 0.3035233477790213,\n",
       " 3: 0.36627729862767705,\n",
       " 4: 0.3035233477790213,\n",
       " 5: 0.431979458181741,\n",
       " 6: 0.3177812857765362,\n",
       " 7: 0.22846874913067822,\n",
       " 8: 0.2930703511805845,\n",
       " 9: 0.2657115575074779,\n",
       " 10: 0.18013155794042954,\n",
       " 11: 0.13232570295898796,\n",
       " 12: 0.03448965282719219}"
      ]
     },
     "execution_count": 26,
     "metadata": {},
     "output_type": "execute_result"
    }
   ],
   "source": [
    "# prestige centrality\n",
    "nx.eigenvector_centrality(G)"
   ]
  },
  {
   "cell_type": "markdown",
   "id": "8def168c",
   "metadata": {},
   "source": [
    "But, if you want to control how many iterations, you can use the `max_iter` argument. But you will get an error if it fails to converge within that number of iterations.  For example:"
   ]
  },
  {
   "cell_type": "code",
   "execution_count": 27,
   "id": "1e84c385",
   "metadata": {},
   "outputs": [
    {
     "name": "stdout",
     "output_type": "stream",
     "text": [
      "(PowerIterationFailedConvergence(...), 'power iteration failed to converge within 10 iterations')\n"
     ]
    }
   ],
   "source": [
    "try:\n",
    "    nx.eigenvector_centrality(G, max_iter=10)\n",
    "except nx.PowerIterationFailedConvergence as e:\n",
    "    print(e)"
   ]
  },
  {
   "cell_type": "code",
   "execution_count": 28,
   "id": "0b8cbe1e",
   "metadata": {},
   "outputs": [
    {
     "data": {
      "text/plain": [
       "{1: 0.08873146737576008,\n",
       " 2: 0.06867264042660365,\n",
       " 3: 0.08873146737576008,\n",
       " 4: 0.06867264042660365,\n",
       " 5: 0.10860251215801077,\n",
       " 6: 0.09166115021829115,\n",
       " 7: 0.07221571015770953,\n",
       " 8: 0.11864230222515453,\n",
       " 9: 0.09443787795285574,\n",
       " 10: 0.07704319008004934,\n",
       " 11: 0.08578347000332444,\n",
       " 12: 0.036805571599876734}"
      ]
     },
     "execution_count": 28,
     "metadata": {},
     "output_type": "execute_result"
    }
   ],
   "source": [
    "nx.pagerank(G)"
   ]
  },
  {
   "cell_type": "markdown",
   "id": "9d0320ec",
   "metadata": {},
   "source": [
    "Finally, let's read and write some graphs.  The simpleset format for a graph is an edge list, which is just on each line an identifier for the pair of verts that define the edge:\n",
    "\n",
    "For example, the graph"
   ]
  },
  {
   "cell_type": "code",
   "execution_count": 29,
   "id": "0484f716",
   "metadata": {},
   "outputs": [
    {
     "data": {
      "image/png": "[encoded data removed]",
      "text/plain": [
       "<Figure size 432x288 with 1 Axes>"
      ]
     },
     "metadata": {},
     "output_type": "display_data"
    }
   ],
   "source": [
    "G = nx.Graph()\n",
    "G.add_edge(1,2)\n",
    "G.add_edge(2,3)\n",
    "G.add_edge(3,1)\n",
    "nx.draw(G)"
   ]
  },
  {
   "cell_type": "markdown",
   "id": "ade2ec91",
   "metadata": {},
   "source": [
    "could be written as an edge list\n",
    "    \n",
    "    1,2\n",
    "    2,3\n",
    "    3,1\n",
    "    \n",
    "So, let's create a small file with that info."
   ]
  },
  {
   "cell_type": "code",
   "execution_count": 30,
   "id": "79ad49b6",
   "metadata": {},
   "outputs": [],
   "source": [
    "f = open('edge_list_example.txt', 'w')\n",
    "f.write('1,2\\n')\n",
    "f.write('2,3\\n')\n",
    "f.write('3,1\\n')\n",
    "f.close()"
   ]
  },
  {
   "cell_type": "markdown",
   "id": "ec0014df",
   "metadata": {},
   "source": [
    "And let's look at the file"
   ]
  },
  {
   "cell_type": "code",
   "execution_count": 31,
   "id": "53636272",
   "metadata": {},
   "outputs": [
    {
     "name": "stdout",
     "output_type": "stream",
     "text": [
      "1,2\r\n",
      "2,3\r\n",
      "3,1\r\n"
     ]
    }
   ],
   "source": [
    "!cat 'edge_list_example.txt'"
   ]
  },
  {
   "cell_type": "markdown",
   "id": "8eb4bda4",
   "metadata": {},
   "source": [
    "Super!  we can read that edgelist in easily with"
   ]
  },
  {
   "cell_type": "code",
   "execution_count": 32,
   "id": "d6b6d3cc",
   "metadata": {},
   "outputs": [
    {
     "data": {
      "image/png": "[encoded data removed]",
      "text/plain": [
       "<Figure size 432x288 with 1 Axes>"
      ]
     },
     "metadata": {},
     "output_type": "display_data"
    }
   ],
   "source": [
    "graph_from_file = nx.read_edgelist('edge_list_example.txt', nodetype=int, delimiter=',')\n",
    "nx.draw(graph_from_file)"
   ]
  },
  {
   "cell_type": "markdown",
   "id": "d5bd029c",
   "metadata": {},
   "source": [
    "We can also generate graphs.  This is very helpful when trying things out.  For example, we can create a complte graph, a path, a cycle."
   ]
  },
  {
   "cell_type": "code",
   "execution_count": 36,
   "id": "da458fa1",
   "metadata": {},
   "outputs": [
    {
     "data": {
      "image/png": "[encoded data removed]",
      "text/plain": [
       "<Figure size 432x288 with 1 Axes>"
      ]
     },
     "metadata": {},
     "output_type": "display_data"
    }
   ],
   "source": [
    "complete = nx.complete_graph(6)\n",
    "nx.draw_networkx(complete)"
   ]
  },
  {
   "cell_type": "code",
   "execution_count": 38,
   "id": "32054f07",
   "metadata": {},
   "outputs": [
    {
     "data": {
      "image/png": "[encoded data removed]",
      "text/plain": [
       "<Figure size 432x288 with 1 Axes>"
      ]
     },
     "metadata": {},
     "output_type": "display_data"
    }
   ],
   "source": [
    "path = nx.path_graph(6)\n",
    "nx.draw_networkx(path)"
   ]
  },
  {
   "cell_type": "code",
   "execution_count": 39,
   "id": "a83e8151",
   "metadata": {},
   "outputs": [
    {
     "data": {
      "image/png": "[encoded data removed]",
      "text/plain": [
       "<Figure size 432x288 with 1 Axes>"
      ]
     },
     "metadata": {},
     "output_type": "display_data"
    }
   ],
   "source": [
    "G_cycle = nx.cycle_graph(6)\n",
    "nx.draw_networkx(G_cycle)"
   ]
  },
  {
   "cell_type": "markdown",
   "id": "b784f35f",
   "metadata": {},
   "source": [
    "Sometimes, you may have a graph that is too large for development and so you want to sample the graph.  We can get a smaller graph to work with as follows.\n",
    "\n",
    "To start, let's get a largeish graph.  We will use a random graph model called Barabasi-Albert.  You don't need to know what it is, but it creates graphs with some interesting properties such as \"hyper-small world\" and \"scale free\".  You don't need to know what those properties are either, but I encourage you to seach around to find out!"
   ]
  },
  {
   "cell_type": "code",
   "execution_count": 50,
   "id": "7fcf4829",
   "metadata": {},
   "outputs": [
    {
     "data": {
      "text/plain": [
       "'Graph with 500 nodes and 7275 edges'"
      ]
     },
     "execution_count": 50,
     "metadata": {},
     "output_type": "execute_result"
    }
   ],
   "source": [
    "ba = nx.barabasi_albert_graph(n=500, m=15)\n",
    "nx.info(ba)"
   ]
  },
  {
   "cell_type": "markdown",
   "id": "1e2cea7a",
   "metadata": {},
   "source": [
    "Let's get a subgraph of the graph with 50 nodes.  First, we will sample the nodes and then take a subgraph with those nodes."
   ]
  },
  {
   "cell_type": "code",
   "execution_count": 56,
   "id": "9e78b99e",
   "metadata": {},
   "outputs": [
    {
     "data": {
      "text/plain": [
       "'Graph with 50 nodes and 59 edges'"
      ]
     },
     "execution_count": 56,
     "metadata": {},
     "output_type": "execute_result"
    }
   ],
   "source": [
    "import random\n",
    "random_nodes = random.sample(list(ba.nodes),50)\n",
    "ba50 = ba.subgraph(random_nodes)\n",
    "nx.info(ba50)"
   ]
  },
  {
   "cell_type": "markdown",
   "id": "1e519ae8",
   "metadata": {},
   "source": [
    "That is not too big, let's look at it"
   ]
  },
  {
   "cell_type": "code",
   "execution_count": 57,
   "id": "b6e4e440",
   "metadata": {},
   "outputs": [
    {
     "data": {
      "image/png": "[encoded data removed]",
      "text/plain": [
       "<Figure size 432x288 with 1 Axes>"
      ]
     },
     "metadata": {},
     "output_type": "display_data"
    }
   ],
   "source": [
    "nx.draw(ba100, node_size=10)"
   ]
  },
  {
   "cell_type": "markdown",
   "id": "8544bb17",
   "metadata": {},
   "source": [
    "Notice that most liklely, we will end up with a few connected components. We may want to take the largest connected component as follows. "
   ]
  },
  {
   "cell_type": "code",
   "execution_count": 60,
   "id": "7fcabe18",
   "metadata": {},
   "outputs": [
    {
     "data": {
      "text/plain": [
       "{7,\n",
       " 32,\n",
       " 36,\n",
       " 51,\n",
       " 56,\n",
       " 61,\n",
       " 75,\n",
       " 80,\n",
       " 84,\n",
       " 96,\n",
       " 97,\n",
       " 109,\n",
       " 155,\n",
       " 161,\n",
       " 162,\n",
       " 174,\n",
       " 175,\n",
       " 179,\n",
       " 187,\n",
       " 188,\n",
       " 202,\n",
       " 224,\n",
       " 232,\n",
       " 242,\n",
       " 246,\n",
       " 247,\n",
       " 249,\n",
       " 259,\n",
       " 270,\n",
       " 277,\n",
       " 291,\n",
       " 314,\n",
       " 333,\n",
       " 336,\n",
       " 349,\n",
       " 358,\n",
       " 394,\n",
       " 400,\n",
       " 414,\n",
       " 433,\n",
       " 438,\n",
       " 447,\n",
       " 477,\n",
       " 483,\n",
       " 497}"
      ]
     },
     "execution_count": 60,
     "metadata": {},
     "output_type": "execute_result"
    }
   ],
   "source": [
    "max(nx.connected_components(ba100), key=len)"
   ]
  }
 ],
 "metadata": {
  "kernelspec": {
   "display_name": "Python 3 (ipykernel)",
   "language": "python",
   "name": "python3"
  },
  "language_info": {
   "codemirror_mode": {
    "name": "ipython",
    "version": 3
   },
   "file_extension": ".py",
   "mimetype": "text/x-python",
   "name": "python",
   "nbconvert_exporter": "python",
   "pygments_lexer": "ipython3",
   "version": "3.10.2"
  }
 },
 "nbformat": 4,
 "nbformat_minor": 5
}
