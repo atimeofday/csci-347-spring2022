{
 "cells": [
  {
   "cell_type": "markdown",
   "id": "c5c708d9",
   "metadata": {},
   "source": [
    "Today, we are going to get a little deeper into what is going on with PCA.  In fact, over the course of this notebook, we are going to implement it. First, let's do some feature selection warmups\n",
    "\n",
    "## Feature selection\n",
    "\n",
    "We will start off by loading a simple data set and then performing some simple approaches to selecting features"
   ]
  },
  {
   "cell_type": "code",
   "execution_count": 1,
   "id": "cf2956f8",
   "metadata": {},
   "outputs": [],
   "source": [
    "from sklearn.datasets import load_linnerud\n",
    "linnerud_data = load_linnerud()\n",
    "        \n",
    "D = linnerud_data['data']"
   ]
  },
  {
   "cell_type": "markdown",
   "id": "6dc7ecc0",
   "metadata": {},
   "source": [
    "First let's check out some info about the data"
   ]
  },
  {
   "cell_type": "code",
   "execution_count": 2,
   "id": "7bf98cf5",
   "metadata": {},
   "outputs": [
    {
     "data": {
      "text/plain": [
       "['Chins', 'Situps', 'Jumps']"
      ]
     },
     "execution_count": 2,
     "metadata": {},
     "output_type": "execute_result"
    }
   ],
   "source": [
    "linnerud_data['feature_names']"
   ]
  },
  {
   "cell_type": "markdown",
   "id": "1e76c1e8",
   "metadata": {},
   "source": [
    "Super!  This data set has something to do with exercising (and is generally used for leaning about linear regression, but will be fine for our purposes).  Next, let's grab the data and look at some info about it."
   ]
  },
  {
   "cell_type": "code",
   "execution_count": 3,
   "id": "32a008d8",
   "metadata": {},
   "outputs": [
    {
     "data": {
      "text/plain": [
       "(20, 3)"
      ]
     },
     "execution_count": 3,
     "metadata": {},
     "output_type": "execute_result"
    }
   ],
   "source": [
    "D = linnerud_data['data']\n",
    "D.shape"
   ]
  },
  {
   "cell_type": "code",
   "execution_count": 4,
   "id": "f919e882",
   "metadata": {},
   "outputs": [
    {
     "data": {
      "text/plain": [
       "array([[  5., 162.,  60.],\n",
       "       [  2., 110.,  60.],\n",
       "       [ 12., 101., 101.],\n",
       "       [ 12., 105.,  37.],\n",
       "       [ 13., 155.,  58.],\n",
       "       [  4., 101.,  42.],\n",
       "       [  8., 101.,  38.],\n",
       "       [  6., 125.,  40.],\n",
       "       [ 15., 200.,  40.],\n",
       "       [ 17., 251., 250.],\n",
       "       [ 17., 120.,  38.],\n",
       "       [ 13., 210., 115.],\n",
       "       [ 14., 215., 105.],\n",
       "       [  1.,  50.,  50.],\n",
       "       [  6.,  70.,  31.],\n",
       "       [ 12., 210., 120.],\n",
       "       [  4.,  60.,  25.],\n",
       "       [ 11., 230.,  80.],\n",
       "       [ 15., 225.,  73.],\n",
       "       [  2., 110.,  43.]])"
      ]
     },
     "execution_count": 4,
     "metadata": {},
     "output_type": "execute_result"
    }
   ],
   "source": [
    "D"
   ]
  },
  {
   "cell_type": "markdown",
   "id": "e483f34a",
   "metadata": {},
   "source": [
    "We saw that one way we can quantify the useful featuers of our data is by variance.  So, let's look at the estimated covariance matrix."
   ]
  },
  {
   "cell_type": "code",
   "execution_count": 5,
   "id": "3cb5a98f",
   "metadata": {},
   "outputs": [
    {
     "data": {
      "text/plain": [
       "array([[  27.94473684,  230.10789474,  134.38421053],\n",
       "       [ 230.10789474, 3914.57631579, 2146.98421053],\n",
       "       [ 134.38421053, 2146.98421053, 2629.37894737]])"
      ]
     },
     "execution_count": 5,
     "metadata": {},
     "output_type": "execute_result"
    }
   ],
   "source": [
    "import numpy as np\n",
    "np.cov(D.T, ddof=1)"
   ]
  },
  {
   "cell_type": "markdown",
   "id": "86f2277b",
   "metadata": {},
   "source": [
    "Great!  so let's keep only the meaningful attributes.  I wasn't sure how to tell what a good cutoff would be so I asked Prof Barktreuse.  She exercises a ton (and infact go a little nuts if she doesn't get at least 30 minutes of exercise per day).  She was suspect of my idea, but said to try 100 as the variance theshold."
   ]
  },
  {
   "cell_type": "code",
   "execution_count": 6,
   "id": "d945aced",
   "metadata": {},
   "outputs": [
    {
     "data": {
      "text/plain": [
       "array([[162.,  60.],\n",
       "       [110.,  60.],\n",
       "       [101., 101.],\n",
       "       [105.,  37.],\n",
       "       [155.,  58.],\n",
       "       [101.,  42.],\n",
       "       [101.,  38.],\n",
       "       [125.,  40.],\n",
       "       [200.,  40.],\n",
       "       [251., 250.],\n",
       "       [120.,  38.],\n",
       "       [210., 115.],\n",
       "       [215., 105.],\n",
       "       [ 50.,  50.],\n",
       "       [ 70.,  31.],\n",
       "       [210., 120.],\n",
       "       [ 60.,  25.],\n",
       "       [230.,  80.],\n",
       "       [225.,  73.],\n",
       "       [110.,  43.]])"
      ]
     },
     "execution_count": 6,
     "metadata": {},
     "output_type": "execute_result"
    }
   ],
   "source": [
    "from sklearn.feature_selection import VarianceThreshold\n",
    "\n",
    "threshold = 100\n",
    "feature_selector = VarianceThreshold(threshold=threshold)\n",
    "feature_selector.fit_transform(D)"
   ]
  },
  {
   "cell_type": "markdown",
   "id": "d6663dbb",
   "metadata": {},
   "source": [
    "So it looks like we got the features in the situps and jumps columns.\n",
    "\n",
    "I asked Prof Barktreuse why she was suspect, and she said that I have not taken scale into account. ... Of course... Prof Barktrues saved the day again. Let's min-max scale our data and try again with a threashold of .6."
   ]
  },
  {
   "cell_type": "code",
   "execution_count": 7,
   "id": "58f46d4f",
   "metadata": {},
   "outputs": [
    {
     "data": {
      "text/plain": [
       "array([[0.25      , 0.55721393, 0.15555556],\n",
       "       [0.0625    , 0.29850746, 0.15555556],\n",
       "       [0.6875    , 0.25373134, 0.33777778],\n",
       "       [0.6875    , 0.27363184, 0.05333333],\n",
       "       [0.75      , 0.52238806, 0.14666667],\n",
       "       [0.1875    , 0.25373134, 0.07555556],\n",
       "       [0.4375    , 0.25373134, 0.05777778],\n",
       "       [0.3125    , 0.37313433, 0.06666667],\n",
       "       [0.875     , 0.74626866, 0.06666667],\n",
       "       [1.        , 1.        , 1.        ],\n",
       "       [1.        , 0.34825871, 0.05777778],\n",
       "       [0.75      , 0.7960199 , 0.4       ],\n",
       "       [0.8125    , 0.82089552, 0.35555556],\n",
       "       [0.        , 0.        , 0.11111111],\n",
       "       [0.3125    , 0.09950249, 0.02666667],\n",
       "       [0.6875    , 0.7960199 , 0.42222222],\n",
       "       [0.1875    , 0.04975124, 0.        ],\n",
       "       [0.625     , 0.89552239, 0.24444444],\n",
       "       [0.875     , 0.87064677, 0.21333333],\n",
       "       [0.0625    , 0.29850746, 0.08      ]])"
      ]
     },
     "execution_count": 7,
     "metadata": {},
     "output_type": "execute_result"
    }
   ],
   "source": [
    "from sklearn.preprocessing import MinMaxScaler\n",
    "D_normalized = MinMaxScaler().fit_transform(D)\n",
    "D_normalized"
   ]
  },
  {
   "cell_type": "code",
   "execution_count": 8,
   "id": "dd2bbfb3",
   "metadata": {},
   "outputs": [
    {
     "data": {
      "text/plain": [
       "array([[0.10915913, 0.07155096, 0.03732895],\n",
       "       [0.07155096, 0.09689306, 0.04747339],\n",
       "       [0.03732895, 0.04747339, 0.05193835]])"
      ]
     },
     "execution_count": 8,
     "metadata": {},
     "output_type": "execute_result"
    }
   ],
   "source": [
    "import numpy as np\n",
    "np.cov(D_normalized.T, ddof=1)"
   ]
  },
  {
   "cell_type": "code",
   "execution_count": 9,
   "id": "e892d564",
   "metadata": {},
   "outputs": [
    {
     "data": {
      "text/plain": [
       "array([[0.25      , 0.55721393],\n",
       "       [0.0625    , 0.29850746],\n",
       "       [0.6875    , 0.25373134],\n",
       "       [0.6875    , 0.27363184],\n",
       "       [0.75      , 0.52238806],\n",
       "       [0.1875    , 0.25373134],\n",
       "       [0.4375    , 0.25373134],\n",
       "       [0.3125    , 0.37313433],\n",
       "       [0.875     , 0.74626866],\n",
       "       [1.        , 1.        ],\n",
       "       [1.        , 0.34825871],\n",
       "       [0.75      , 0.7960199 ],\n",
       "       [0.8125    , 0.82089552],\n",
       "       [0.        , 0.        ],\n",
       "       [0.3125    , 0.09950249],\n",
       "       [0.6875    , 0.7960199 ],\n",
       "       [0.1875    , 0.04975124],\n",
       "       [0.625     , 0.89552239],\n",
       "       [0.875     , 0.87064677],\n",
       "       [0.0625    , 0.29850746]])"
      ]
     },
     "execution_count": 9,
     "metadata": {},
     "output_type": "execute_result"
    }
   ],
   "source": [
    "threshold = .06\n",
    "feature_selector = VarianceThreshold(threshold=threshold)\n",
    "feature_selector.fit_transform(D_normalized)"
   ]
  },
  {
   "cell_type": "markdown",
   "id": "e0bda82d",
   "metadata": {},
   "source": [
    "And this time, it looks like we got the chins and situps features.  So, this demonstrates when performing features selection using variance, we have to be careful as the scale of the fields of the data can matter.\n",
    "\n",
    "## PCA\n",
    "Recall from last time, the PCA algorithm:\n",
    "\n",
    "![pca-algo.png](09-imgs/pca-algo.png)\n",
    "\n",
    "We will walk though some background and then implement the algo.  We will start by loading in the iris data set"
   ]
  },
  {
   "cell_type": "code",
   "execution_count": 10,
   "id": "5a768d39",
   "metadata": {},
   "outputs": [],
   "source": [
    "from sklearn.datasets import load_iris\n",
    "D_iris = load_iris()['data']"
   ]
  },
  {
   "cell_type": "markdown",
   "id": "7f29c877",
   "metadata": {},
   "source": [
    "And lets get some info about the data and take a look at a projection of the data"
   ]
  },
  {
   "cell_type": "code",
   "execution_count": 11,
   "id": "cadbd212",
   "metadata": {},
   "outputs": [
    {
     "data": {
      "text/plain": [
       "(150, 4)"
      ]
     },
     "execution_count": 11,
     "metadata": {},
     "output_type": "execute_result"
    }
   ],
   "source": [
    "D_iris.shape"
   ]
  },
  {
   "cell_type": "markdown",
   "id": "52444db2",
   "metadata": {},
   "source": [
    "Let's just grab 2 dimensions of the data"
   ]
  },
  {
   "cell_type": "code",
   "execution_count": 12,
   "id": "a11dbd3e",
   "metadata": {},
   "outputs": [],
   "source": [
    "D = D_iris[:, 1:3]"
   ]
  },
  {
   "cell_type": "code",
   "execution_count": 13,
   "id": "01fbb775",
   "metadata": {},
   "outputs": [
    {
     "data": {
      "text/plain": [
       "Text(0.5, 1.0, 'Scatter plot of data matrix D_iris')"
      ]
     },
     "execution_count": 13,
     "metadata": {},
     "output_type": "execute_result"
    },
    {
     "data": {
      "image/png": "[encoded data removed]",
      "text/plain": [
       "<Figure size 432x288 with 1 Axes>"
      ]
     },
     "metadata": {
      "needs_background": "light"
     },
     "output_type": "display_data"
    }
   ],
   "source": [
    "import matplotlib.pyplot as plt\n",
    "plt.scatter(D[:,0], D[:,1])\n",
    "plt.xlabel('X1')\n",
    "plt.ylabel('X2')\n",
    "plt.title('Scatter plot of data matrix D_iris')"
   ]
  },
  {
   "cell_type": "markdown",
   "id": "21a82f1f",
   "metadata": {},
   "source": [
    "### Mean centering\n",
    "\n",
    "Recall that the first thing we needed to do to our data was mean center it.  We have done that a few times, but, for completeness, let's mean center our data."
   ]
  },
  {
   "cell_type": "code",
   "execution_count": 14,
   "id": "b6b7f91c",
   "metadata": {},
   "outputs": [
    {
     "data": {
      "text/plain": [
       "array([3.05733333, 3.758     ])"
      ]
     },
     "execution_count": 14,
     "metadata": {},
     "output_type": "execute_result"
    }
   ],
   "source": [
    "multi_d_mean = np.mean(D, axis=0)\n",
    "multi_d_mean"
   ]
  },
  {
   "cell_type": "code",
   "execution_count": 15,
   "id": "e37e6c0f",
   "metadata": {},
   "outputs": [
    {
     "data": {
      "text/plain": [
       "array([[ 0.44266667, -2.358     ],\n",
       "       [-0.05733333, -2.358     ],\n",
       "       [ 0.14266667, -2.458     ],\n",
       "       [ 0.04266667, -2.258     ],\n",
       "       [ 0.54266667, -2.358     ],\n",
       "       [ 0.84266667, -2.058     ],\n",
       "       [ 0.34266667, -2.358     ],\n",
       "       [ 0.34266667, -2.258     ],\n",
       "       [-0.15733333, -2.358     ],\n",
       "       [ 0.04266667, -2.258     ],\n",
       "       [ 0.64266667, -2.258     ],\n",
       "       [ 0.34266667, -2.158     ],\n",
       "       [-0.05733333, -2.358     ],\n",
       "       [-0.05733333, -2.658     ],\n",
       "       [ 0.94266667, -2.558     ],\n",
       "       [ 1.34266667, -2.258     ],\n",
       "       [ 0.84266667, -2.458     ],\n",
       "       [ 0.44266667, -2.358     ],\n",
       "       [ 0.74266667, -2.058     ],\n",
       "       [ 0.74266667, -2.258     ],\n",
       "       [ 0.34266667, -2.058     ],\n",
       "       [ 0.64266667, -2.258     ],\n",
       "       [ 0.54266667, -2.758     ],\n",
       "       [ 0.24266667, -2.058     ],\n",
       "       [ 0.34266667, -1.858     ],\n",
       "       [-0.05733333, -2.158     ],\n",
       "       [ 0.34266667, -2.158     ],\n",
       "       [ 0.44266667, -2.258     ],\n",
       "       [ 0.34266667, -2.358     ],\n",
       "       [ 0.14266667, -2.158     ],\n",
       "       [ 0.04266667, -2.158     ],\n",
       "       [ 0.34266667, -2.258     ],\n",
       "       [ 1.04266667, -2.258     ],\n",
       "       [ 1.14266667, -2.358     ],\n",
       "       [ 0.04266667, -2.258     ],\n",
       "       [ 0.14266667, -2.558     ],\n",
       "       [ 0.44266667, -2.458     ],\n",
       "       [ 0.54266667, -2.358     ],\n",
       "       [-0.05733333, -2.458     ],\n",
       "       [ 0.34266667, -2.258     ],\n",
       "       [ 0.44266667, -2.458     ],\n",
       "       [-0.75733333, -2.458     ],\n",
       "       [ 0.14266667, -2.458     ],\n",
       "       [ 0.44266667, -2.158     ],\n",
       "       [ 0.74266667, -1.858     ],\n",
       "       [-0.05733333, -2.358     ],\n",
       "       [ 0.74266667, -2.158     ],\n",
       "       [ 0.14266667, -2.358     ],\n",
       "       [ 0.64266667, -2.258     ],\n",
       "       [ 0.24266667, -2.358     ],\n",
       "       [ 0.14266667,  0.942     ],\n",
       "       [ 0.14266667,  0.742     ],\n",
       "       [ 0.04266667,  1.142     ],\n",
       "       [-0.75733333,  0.242     ],\n",
       "       [-0.25733333,  0.842     ],\n",
       "       [-0.25733333,  0.742     ],\n",
       "       [ 0.24266667,  0.942     ],\n",
       "       [-0.65733333, -0.458     ],\n",
       "       [-0.15733333,  0.842     ],\n",
       "       [-0.35733333,  0.142     ],\n",
       "       [-1.05733333, -0.258     ],\n",
       "       [-0.05733333,  0.442     ],\n",
       "       [-0.85733333,  0.242     ],\n",
       "       [-0.15733333,  0.942     ],\n",
       "       [-0.15733333, -0.158     ],\n",
       "       [ 0.04266667,  0.642     ],\n",
       "       [-0.05733333,  0.742     ],\n",
       "       [-0.35733333,  0.342     ],\n",
       "       [-0.85733333,  0.742     ],\n",
       "       [-0.55733333,  0.142     ],\n",
       "       [ 0.14266667,  1.042     ],\n",
       "       [-0.25733333,  0.242     ],\n",
       "       [-0.55733333,  1.142     ],\n",
       "       [-0.25733333,  0.942     ],\n",
       "       [-0.15733333,  0.542     ],\n",
       "       [-0.05733333,  0.642     ],\n",
       "       [-0.25733333,  1.042     ],\n",
       "       [-0.05733333,  1.242     ],\n",
       "       [-0.15733333,  0.742     ],\n",
       "       [-0.45733333, -0.258     ],\n",
       "       [-0.65733333,  0.042     ],\n",
       "       [-0.65733333, -0.058     ],\n",
       "       [-0.35733333,  0.142     ],\n",
       "       [-0.35733333,  1.342     ],\n",
       "       [-0.05733333,  0.742     ],\n",
       "       [ 0.34266667,  0.742     ],\n",
       "       [ 0.04266667,  0.942     ],\n",
       "       [-0.75733333,  0.642     ],\n",
       "       [-0.05733333,  0.342     ],\n",
       "       [-0.55733333,  0.242     ],\n",
       "       [-0.45733333,  0.642     ],\n",
       "       [-0.05733333,  0.842     ],\n",
       "       [-0.45733333,  0.242     ],\n",
       "       [-0.75733333, -0.458     ],\n",
       "       [-0.35733333,  0.442     ],\n",
       "       [-0.05733333,  0.442     ],\n",
       "       [-0.15733333,  0.442     ],\n",
       "       [-0.15733333,  0.542     ],\n",
       "       [-0.55733333, -0.758     ],\n",
       "       [-0.25733333,  0.342     ],\n",
       "       [ 0.24266667,  2.242     ],\n",
       "       [-0.35733333,  1.342     ],\n",
       "       [-0.05733333,  2.142     ],\n",
       "       [-0.15733333,  1.842     ],\n",
       "       [-0.05733333,  2.042     ],\n",
       "       [-0.05733333,  2.842     ],\n",
       "       [-0.55733333,  0.742     ],\n",
       "       [-0.15733333,  2.542     ],\n",
       "       [-0.55733333,  2.042     ],\n",
       "       [ 0.54266667,  2.342     ],\n",
       "       [ 0.14266667,  1.342     ],\n",
       "       [-0.35733333,  1.542     ],\n",
       "       [-0.05733333,  1.742     ],\n",
       "       [-0.55733333,  1.242     ],\n",
       "       [-0.25733333,  1.342     ],\n",
       "       [ 0.14266667,  1.542     ],\n",
       "       [-0.05733333,  1.742     ],\n",
       "       [ 0.74266667,  2.942     ],\n",
       "       [-0.45733333,  3.142     ],\n",
       "       [-0.85733333,  1.242     ],\n",
       "       [ 0.14266667,  1.942     ],\n",
       "       [-0.25733333,  1.142     ],\n",
       "       [-0.25733333,  2.942     ],\n",
       "       [-0.35733333,  1.142     ],\n",
       "       [ 0.24266667,  1.942     ],\n",
       "       [ 0.14266667,  2.242     ],\n",
       "       [-0.25733333,  1.042     ],\n",
       "       [-0.05733333,  1.142     ],\n",
       "       [-0.25733333,  1.842     ],\n",
       "       [-0.05733333,  2.042     ],\n",
       "       [-0.25733333,  2.342     ],\n",
       "       [ 0.74266667,  2.642     ],\n",
       "       [-0.25733333,  1.842     ],\n",
       "       [-0.25733333,  1.342     ],\n",
       "       [-0.45733333,  1.842     ],\n",
       "       [-0.05733333,  2.342     ],\n",
       "       [ 0.34266667,  1.842     ],\n",
       "       [ 0.04266667,  1.742     ],\n",
       "       [-0.05733333,  1.042     ],\n",
       "       [ 0.04266667,  1.642     ],\n",
       "       [ 0.04266667,  1.842     ],\n",
       "       [ 0.04266667,  1.342     ],\n",
       "       [-0.35733333,  1.342     ],\n",
       "       [ 0.14266667,  2.142     ],\n",
       "       [ 0.24266667,  1.942     ],\n",
       "       [-0.05733333,  1.442     ],\n",
       "       [-0.55733333,  1.242     ],\n",
       "       [-0.05733333,  1.442     ],\n",
       "       [ 0.34266667,  1.642     ],\n",
       "       [-0.05733333,  1.342     ]])"
      ]
     },
     "execution_count": 15,
     "metadata": {},
     "output_type": "execute_result"
    }
   ],
   "source": [
    "centered_data = D - multi_d_mean\n",
    "centered_data"
   ]
  },
  {
   "cell_type": "markdown",
   "id": "6c1ff587",
   "metadata": {},
   "source": [
    "Next, let's plot the original data and the mean centered data."
   ]
  },
  {
   "cell_type": "code",
   "execution_count": 16,
   "id": "c45b70c9",
   "metadata": {},
   "outputs": [
    {
     "data": {
      "text/plain": [
       "Text(0.5, 1.0, 'Scatter plot of centered and original data')"
      ]
     },
     "execution_count": 16,
     "metadata": {},
     "output_type": "execute_result"
    },
    {
     "data": {
      "image/png": "[encoded data removed]",
      "text/plain": [
       "<Figure size 432x288 with 1 Axes>"
      ]
     },
     "metadata": {
      "needs_background": "light"
     },
     "output_type": "display_data"
    }
   ],
   "source": [
    "fig = plt.figure()\n",
    "ax = fig.add_subplot(111)\n",
    "ax.scatter(D[:,0], D[:,1], s=10, c='b', marker='s', label='original data')\n",
    "ax.scatter(centered_data[:,0], centered_data[:,1], s=10, c='r', marker='x', label='centered data')\n",
    "plt.xlabel('X1')\n",
    "plt.ylabel('X2')\n",
    "plt.legend(loc='upper left')\n",
    "plt.title('Scatter plot of centered and original data')"
   ]
  },
  {
   "cell_type": "markdown",
   "id": "465b03ba",
   "metadata": {},
   "source": [
    "**Question**: *What do you think the mean of the centered data is?*"
   ]
  },
  {
   "cell_type": "code",
   "execution_count": 17,
   "id": "9bd9fd09",
   "metadata": {},
   "outputs": [
    {
     "data": {
      "text/plain": [
       "array([-7.60872846e-16, -2.55203266e-15])"
      ]
     },
     "execution_count": 17,
     "metadata": {},
     "output_type": "execute_result"
    }
   ],
   "source": [
    "np.mean(centered_data, axis = 0)"
   ]
  },
  {
   "cell_type": "markdown",
   "id": "bba59786",
   "metadata": {},
   "source": [
    "Yep, that is numerically zero!  \n",
    "\n",
    "### Linearly Transorming Data\n",
    "\n",
    "Next, let's recall linear transforamtions as a rotaton and a scaling.  Let's pick an arbitrary linear transormation and move some points around."
   ]
  },
  {
   "cell_type": "code",
   "execution_count": 18,
   "id": "d7610a0f",
   "metadata": {},
   "outputs": [
    {
     "data": {
      "text/plain": [
       "array([[ 2,  1],\n",
       "       [ 1, -1]])"
      ]
     },
     "execution_count": 18,
     "metadata": {},
     "output_type": "execute_result"
    }
   ],
   "source": [
    "A = np.array([[2,1],[1,-1]])\n",
    "A"
   ]
  },
  {
   "cell_type": "code",
   "execution_count": 19,
   "id": "2c1ffe9e",
   "metadata": {},
   "outputs": [
    {
     "data": {
      "text/plain": [
       "array([3.5, 1.4])"
      ]
     },
     "execution_count": 19,
     "metadata": {},
     "output_type": "execute_result"
    }
   ],
   "source": [
    "D[0,:]"
   ]
  },
  {
   "cell_type": "code",
   "execution_count": 20,
   "id": "fbfe7115",
   "metadata": {},
   "outputs": [
    {
     "data": {
      "text/plain": [
       "array([8.4, 2.1])"
      ]
     },
     "execution_count": 20,
     "metadata": {},
     "output_type": "execute_result"
    }
   ],
   "source": [
    "A.dot(D[0,:])"
   ]
  },
  {
   "cell_type": "code",
   "execution_count": 21,
   "id": "39114548",
   "metadata": {},
   "outputs": [
    {
     "data": {
      "text/plain": [
       "array([3. , 1.4])"
      ]
     },
     "execution_count": 21,
     "metadata": {},
     "output_type": "execute_result"
    }
   ],
   "source": [
    "D[1,:]"
   ]
  },
  {
   "cell_type": "code",
   "execution_count": 22,
   "id": "2d0a38c5",
   "metadata": {},
   "outputs": [
    {
     "data": {
      "text/plain": [
       "array([7.4, 1.6])"
      ]
     },
     "execution_count": 22,
     "metadata": {},
     "output_type": "execute_result"
    }
   ],
   "source": [
    "A.dot(D[1,:])"
   ]
  },
  {
   "cell_type": "markdown",
   "id": "63eec32e",
   "metadata": {},
   "source": [
    "Great!  So let's transform all the data in one go!"
   ]
  },
  {
   "cell_type": "code",
   "execution_count": 23,
   "id": "11f94f60",
   "metadata": {},
   "outputs": [
    {
     "data": {
      "text/plain": [
       "array([[ 8.4,  2.1],\n",
       "       [ 7.4,  1.6],\n",
       "       [ 7.7,  1.9],\n",
       "       [ 7.7,  1.6],\n",
       "       [ 8.6,  2.2],\n",
       "       [ 9.5,  2.2],\n",
       "       [ 8.2,  2. ],\n",
       "       [ 8.3,  1.9],\n",
       "       [ 7.2,  1.5],\n",
       "       [ 7.7,  1.6],\n",
       "       [ 8.9,  2.2],\n",
       "       [ 8.4,  1.8],\n",
       "       [ 7.4,  1.6],\n",
       "       [ 7.1,  1.9],\n",
       "       [ 9.2,  2.8],\n",
       "       [10.3,  2.9],\n",
       "       [ 9.1,  2.6],\n",
       "       [ 8.4,  2.1],\n",
       "       [ 9.3,  2.1],\n",
       "       [ 9.1,  2.3],\n",
       "       [ 8.5,  1.7],\n",
       "       [ 8.9,  2.2],\n",
       "       [ 8.2,  2.6],\n",
       "       [ 8.3,  1.6],\n",
       "       [ 8.7,  1.5],\n",
       "       [ 7.6,  1.4],\n",
       "       [ 8.4,  1.8],\n",
       "       [ 8.5,  2. ],\n",
       "       [ 8.2,  2. ],\n",
       "       [ 8. ,  1.6],\n",
       "       [ 7.8,  1.5],\n",
       "       [ 8.3,  1.9],\n",
       "       [ 9.7,  2.6],\n",
       "       [ 9.8,  2.8],\n",
       "       [ 7.7,  1.6],\n",
       "       [ 7.6,  2. ],\n",
       "       [ 8.3,  2.2],\n",
       "       [ 8.6,  2.2],\n",
       "       [ 7.3,  1.7],\n",
       "       [ 8.3,  1.9],\n",
       "       [ 8.3,  2.2],\n",
       "       [ 5.9,  1. ],\n",
       "       [ 7.7,  1.9],\n",
       "       [ 8.6,  1.9],\n",
       "       [ 9.5,  1.9],\n",
       "       [ 7.4,  1.6],\n",
       "       [ 9.2,  2.2],\n",
       "       [ 7.8,  1.8],\n",
       "       [ 8.9,  2.2],\n",
       "       [ 8. ,  1.9],\n",
       "       [11.1, -1.5],\n",
       "       [10.9, -1.3],\n",
       "       [11.1, -1.8],\n",
       "       [ 8.6, -1.7],\n",
       "       [10.2, -1.8],\n",
       "       [10.1, -1.7],\n",
       "       [11.3, -1.4],\n",
       "       [ 8.1, -0.9],\n",
       "       [10.4, -1.7],\n",
       "       [ 9.3, -1.2],\n",
       "       [ 7.5, -1.5],\n",
       "       [10.2, -1.2],\n",
       "       [ 8.4, -1.8],\n",
       "       [10.5, -1.8],\n",
       "       [ 9.4, -0.7],\n",
       "       [10.6, -1.3],\n",
       "       [10.5, -1.5],\n",
       "       [ 9.5, -1.4],\n",
       "       [ 8.9, -2.3],\n",
       "       [ 8.9, -1.4],\n",
       "       [11.2, -1.6],\n",
       "       [ 9.6, -1.2],\n",
       "       [ 9.9, -2.4],\n",
       "       [10.3, -1.9],\n",
       "       [10.1, -1.4],\n",
       "       [10.4, -1.4],\n",
       "       [10.4, -2. ],\n",
       "       [11. , -2. ],\n",
       "       [10.3, -1.6],\n",
       "       [ 8.7, -0.9],\n",
       "       [ 8.6, -1.4],\n",
       "       [ 8.5, -1.3],\n",
       "       [ 9.3, -1.2],\n",
       "       [10.5, -2.4],\n",
       "       [10.5, -1.5],\n",
       "       [11.3, -1.1],\n",
       "       [10.9, -1.6],\n",
       "       [ 9. , -2.1],\n",
       "       [10.1, -1.1],\n",
       "       [ 9. , -1.5],\n",
       "       [ 9.6, -1.8],\n",
       "       [10.6, -1.6],\n",
       "       [ 9.2, -1.4],\n",
       "       [ 7.9, -1. ],\n",
       "       [ 9.6, -1.5],\n",
       "       [10.2, -1.2],\n",
       "       [10. , -1.3],\n",
       "       [10.1, -1.4],\n",
       "       [ 8. , -0.5],\n",
       "       [ 9.7, -1.3],\n",
       "       [12.6, -2.7],\n",
       "       [10.5, -2.4],\n",
       "       [11.9, -2.9],\n",
       "       [11.4, -2.7],\n",
       "       [11.8, -2.8],\n",
       "       [12.6, -3.6],\n",
       "       [ 9.5, -2. ],\n",
       "       [12.1, -3.4],\n",
       "       [10.8, -3.3],\n",
       "       [13.3, -2.5],\n",
       "       [11.5, -1.9],\n",
       "       [10.7, -2.6],\n",
       "       [11.5, -2.5],\n",
       "       [10. , -2.5],\n",
       "       [10.7, -2.3],\n",
       "       [11.7, -2.1],\n",
       "       [11.5, -2.5],\n",
       "       [14.3, -2.9],\n",
       "       [12.1, -4.3],\n",
       "       [ 9.4, -2.8],\n",
       "       [12.1, -2.5],\n",
       "       [10.5, -2.1],\n",
       "       [12.3, -3.9],\n",
       "       [10.3, -2.2],\n",
       "       [12.3, -2.4],\n",
       "       [12.4, -2.8],\n",
       "       [10.4, -2. ],\n",
       "       [10.9, -1.9],\n",
       "       [11.2, -2.8],\n",
       "       [11.8, -2.8],\n",
       "       [11.7, -3.3],\n",
       "       [14. , -2.6],\n",
       "       [11.2, -2.8],\n",
       "       [10.7, -2.3],\n",
       "       [10.8, -3. ],\n",
       "       [12.1, -3.1],\n",
       "       [12.4, -2.2],\n",
       "       [11.7, -2.4],\n",
       "       [10.8, -1.8],\n",
       "       [11.6, -2.3],\n",
       "       [11.8, -2.5],\n",
       "       [11.3, -2. ],\n",
       "       [10.5, -2.4],\n",
       "       [12.3, -2.7],\n",
       "       [12.3, -2.4],\n",
       "       [11.2, -2.2],\n",
       "       [10. , -2.5],\n",
       "       [11.2, -2.2],\n",
       "       [12.2, -2. ],\n",
       "       [11.1, -2.1]])"
      ]
     },
     "execution_count": 23,
     "metadata": {},
     "output_type": "execute_result"
    }
   ],
   "source": [
    "linearly_transformed_data = A.dot(D.T)\n",
    "linearly_transformed_data.T"
   ]
  },
  {
   "cell_type": "code",
   "execution_count": 24,
   "id": "18b571d3",
   "metadata": {},
   "outputs": [
    {
     "data": {
      "text/plain": [
       "array([[3.5, 1.4],\n",
       "       [3. , 1.4],\n",
       "       [3.2, 1.3],\n",
       "       [3.1, 1.5],\n",
       "       [3.6, 1.4],\n",
       "       [3.9, 1.7],\n",
       "       [3.4, 1.4],\n",
       "       [3.4, 1.5],\n",
       "       [2.9, 1.4],\n",
       "       [3.1, 1.5],\n",
       "       [3.7, 1.5],\n",
       "       [3.4, 1.6],\n",
       "       [3. , 1.4],\n",
       "       [3. , 1.1],\n",
       "       [4. , 1.2],\n",
       "       [4.4, 1.5],\n",
       "       [3.9, 1.3],\n",
       "       [3.5, 1.4],\n",
       "       [3.8, 1.7],\n",
       "       [3.8, 1.5],\n",
       "       [3.4, 1.7],\n",
       "       [3.7, 1.5],\n",
       "       [3.6, 1. ],\n",
       "       [3.3, 1.7],\n",
       "       [3.4, 1.9],\n",
       "       [3. , 1.6],\n",
       "       [3.4, 1.6],\n",
       "       [3.5, 1.5],\n",
       "       [3.4, 1.4],\n",
       "       [3.2, 1.6],\n",
       "       [3.1, 1.6],\n",
       "       [3.4, 1.5],\n",
       "       [4.1, 1.5],\n",
       "       [4.2, 1.4],\n",
       "       [3.1, 1.5],\n",
       "       [3.2, 1.2],\n",
       "       [3.5, 1.3],\n",
       "       [3.6, 1.4],\n",
       "       [3. , 1.3],\n",
       "       [3.4, 1.5],\n",
       "       [3.5, 1.3],\n",
       "       [2.3, 1.3],\n",
       "       [3.2, 1.3],\n",
       "       [3.5, 1.6],\n",
       "       [3.8, 1.9],\n",
       "       [3. , 1.4],\n",
       "       [3.8, 1.6],\n",
       "       [3.2, 1.4],\n",
       "       [3.7, 1.5],\n",
       "       [3.3, 1.4],\n",
       "       [3.2, 4.7],\n",
       "       [3.2, 4.5],\n",
       "       [3.1, 4.9],\n",
       "       [2.3, 4. ],\n",
       "       [2.8, 4.6],\n",
       "       [2.8, 4.5],\n",
       "       [3.3, 4.7],\n",
       "       [2.4, 3.3],\n",
       "       [2.9, 4.6],\n",
       "       [2.7, 3.9],\n",
       "       [2. , 3.5],\n",
       "       [3. , 4.2],\n",
       "       [2.2, 4. ],\n",
       "       [2.9, 4.7],\n",
       "       [2.9, 3.6],\n",
       "       [3.1, 4.4],\n",
       "       [3. , 4.5],\n",
       "       [2.7, 4.1],\n",
       "       [2.2, 4.5],\n",
       "       [2.5, 3.9],\n",
       "       [3.2, 4.8],\n",
       "       [2.8, 4. ],\n",
       "       [2.5, 4.9],\n",
       "       [2.8, 4.7],\n",
       "       [2.9, 4.3],\n",
       "       [3. , 4.4],\n",
       "       [2.8, 4.8],\n",
       "       [3. , 5. ],\n",
       "       [2.9, 4.5],\n",
       "       [2.6, 3.5],\n",
       "       [2.4, 3.8],\n",
       "       [2.4, 3.7],\n",
       "       [2.7, 3.9],\n",
       "       [2.7, 5.1],\n",
       "       [3. , 4.5],\n",
       "       [3.4, 4.5],\n",
       "       [3.1, 4.7],\n",
       "       [2.3, 4.4],\n",
       "       [3. , 4.1],\n",
       "       [2.5, 4. ],\n",
       "       [2.6, 4.4],\n",
       "       [3. , 4.6],\n",
       "       [2.6, 4. ],\n",
       "       [2.3, 3.3],\n",
       "       [2.7, 4.2],\n",
       "       [3. , 4.2],\n",
       "       [2.9, 4.2],\n",
       "       [2.9, 4.3],\n",
       "       [2.5, 3. ],\n",
       "       [2.8, 4.1],\n",
       "       [3.3, 6. ],\n",
       "       [2.7, 5.1],\n",
       "       [3. , 5.9],\n",
       "       [2.9, 5.6],\n",
       "       [3. , 5.8],\n",
       "       [3. , 6.6],\n",
       "       [2.5, 4.5],\n",
       "       [2.9, 6.3],\n",
       "       [2.5, 5.8],\n",
       "       [3.6, 6.1],\n",
       "       [3.2, 5.1],\n",
       "       [2.7, 5.3],\n",
       "       [3. , 5.5],\n",
       "       [2.5, 5. ],\n",
       "       [2.8, 5.1],\n",
       "       [3.2, 5.3],\n",
       "       [3. , 5.5],\n",
       "       [3.8, 6.7],\n",
       "       [2.6, 6.9],\n",
       "       [2.2, 5. ],\n",
       "       [3.2, 5.7],\n",
       "       [2.8, 4.9],\n",
       "       [2.8, 6.7],\n",
       "       [2.7, 4.9],\n",
       "       [3.3, 5.7],\n",
       "       [3.2, 6. ],\n",
       "       [2.8, 4.8],\n",
       "       [3. , 4.9],\n",
       "       [2.8, 5.6],\n",
       "       [3. , 5.8],\n",
       "       [2.8, 6.1],\n",
       "       [3.8, 6.4],\n",
       "       [2.8, 5.6],\n",
       "       [2.8, 5.1],\n",
       "       [2.6, 5.6],\n",
       "       [3. , 6.1],\n",
       "       [3.4, 5.6],\n",
       "       [3.1, 5.5],\n",
       "       [3. , 4.8],\n",
       "       [3.1, 5.4],\n",
       "       [3.1, 5.6],\n",
       "       [3.1, 5.1],\n",
       "       [2.7, 5.1],\n",
       "       [3.2, 5.9],\n",
       "       [3.3, 5.7],\n",
       "       [3. , 5.2],\n",
       "       [2.5, 5. ],\n",
       "       [3. , 5.2],\n",
       "       [3.4, 5.4],\n",
       "       [3. , 5.1]])"
      ]
     },
     "execution_count": 24,
     "metadata": {},
     "output_type": "execute_result"
    }
   ],
   "source": [
    "D"
   ]
  },
  {
   "cell_type": "markdown",
   "id": "7acb5e6e",
   "metadata": {},
   "source": [
    "But let's look at how the data changed"
   ]
  },
  {
   "cell_type": "code",
   "execution_count": 25,
   "id": "13d5f588",
   "metadata": {},
   "outputs": [
    {
     "data": {
      "text/plain": [
       "Text(0.5, 1.0, 'Scatter plot of original data and linearly transformed data')"
      ]
     },
     "execution_count": 25,
     "metadata": {},
     "output_type": "execute_result"
    },
    {
     "data": {
      "image/png": "[encoded data removed]",
      "text/plain": [
       "<Figure size 432x288 with 1 Axes>"
      ]
     },
     "metadata": {
      "needs_background": "light"
     },
     "output_type": "display_data"
    }
   ],
   "source": [
    "fig = plt.figure()\n",
    "ax = fig.add_subplot(111)\n",
    "ax.scatter(linearly_transformed_data[0,:], linearly_transformed_data[1,:], s=10, c='r', marker='x', label='linearly transformed data')\n",
    "ax.scatter(D[:,0], D[:,1], s=10, c='b', marker='s', label='original data')\n",
    "plt.xlabel('X1')\n",
    "plt.ylabel('X2')\n",
    "plt.legend(loc='lower right')\n",
    "plt.title('Scatter plot of original data and linearly transformed data')"
   ]
  },
  {
   "cell_type": "markdown",
   "id": "707f4804",
   "metadata": {},
   "source": [
    "Great, now, let's compute the cov matrix.  The easiest way to do that, is just do get the cov of the data."
   ]
  },
  {
   "cell_type": "code",
   "execution_count": 26,
   "id": "e9ca263b",
   "metadata": {},
   "outputs": [
    {
     "data": {
      "text/plain": [
       "array([[ 0.18997942, -0.32965638],\n",
       "       [-0.32965638,  3.11627785]])"
      ]
     },
     "execution_count": 26,
     "metadata": {},
     "output_type": "execute_result"
    }
   ],
   "source": [
    "Sigma = np.cov(D.T, ddof=1)\n",
    "Sigma"
   ]
  },
  {
   "cell_type": "markdown",
   "id": "e439425a",
   "metadata": {},
   "source": [
    "Or, we an compute it the way we saw in the notes:"
   ]
  },
  {
   "cell_type": "code",
   "execution_count": 27,
   "id": "3ebb7606",
   "metadata": {},
   "outputs": [
    {
     "data": {
      "text/plain": [
       "array([[ 0.18997942, -0.32965638],\n",
       "       [-0.32965638,  3.11627785]])"
      ]
     },
     "execution_count": 27,
     "metadata": {},
     "output_type": "execute_result"
    }
   ],
   "source": [
    "n = D.shape[0]\n",
    "1/(n-1)*np.dot(centered_data.T, centered_data)"
   ]
  },
  {
   "cell_type": "markdown",
   "id": "4acb6c1d",
   "metadata": {},
   "source": [
    "Notice that they are the same!  ... which does make sense.  Steps 1-3 were to compute the covariance matrix, which with numpy we can compute directly with the `cov` function."
   ]
  },
  {
   "cell_type": "markdown",
   "id": "1abe5cc3",
   "metadata": {},
   "source": [
    "### Eigenvalues\n",
    "\n",
    "Next up is one of the major steps, we will get the eigenvalues and engenvectors of the covariance matrix"
   ]
  },
  {
   "cell_type": "code",
   "execution_count": 28,
   "id": "d27139ee",
   "metadata": {},
   "outputs": [],
   "source": [
    "import numpy.linalg as LA\n",
    "evalues, evectors = LA.eig(Sigma)"
   ]
  },
  {
   "cell_type": "code",
   "execution_count": 29,
   "id": "1aa15dc1",
   "metadata": {},
   "outputs": [
    {
     "data": {
      "text/plain": [
       "array([0.15330233, 3.15295494])"
      ]
     },
     "execution_count": 29,
     "metadata": {},
     "output_type": "execute_result"
    }
   ],
   "source": [
    "evalues"
   ]
  },
  {
   "cell_type": "code",
   "execution_count": 30,
   "id": "046526be",
   "metadata": {},
   "outputs": [
    {
     "data": {
      "text/plain": [
       "array([[-0.99386764,  0.11057628],\n",
       "       [-0.11057628, -0.99386764]])"
      ]
     },
     "execution_count": 30,
     "metadata": {},
     "output_type": "execute_result"
    }
   ],
   "source": [
    "evectors"
   ]
  },
  {
   "cell_type": "markdown",
   "id": "b768fb9d",
   "metadata": {},
   "source": [
    "Note that in class, and the algorithm, the eigenvalues (and corresponding vectors) were assumed to be sorted in decending order by eigenvalue.  Numpy does not do that, so let's sort them! "
   ]
  },
  {
   "cell_type": "code",
   "execution_count": 31,
   "id": "73664e13",
   "metadata": {},
   "outputs": [],
   "source": [
    "idx = evalues.argsort()[::-1]\n",
    "evalues = evalues[idx]\n",
    "evectors = evectors[:, idx]"
   ]
  },
  {
   "cell_type": "markdown",
   "id": "a3f008f7",
   "metadata": {},
   "source": [
    "and now they are sorted in decending order by eigenvalue"
   ]
  },
  {
   "cell_type": "code",
   "execution_count": 32,
   "id": "01ac3e46",
   "metadata": {},
   "outputs": [
    {
     "name": "stdout",
     "output_type": "stream",
     "text": [
      "[3.15295494 0.15330233]\n",
      "[[ 0.11057628 -0.99386764]\n",
      " [-0.99386764 -0.11057628]]\n"
     ]
    }
   ],
   "source": [
    "print(evalues)\n",
    "print(evectors)"
   ]
  },
  {
   "cell_type": "markdown",
   "id": "ce8fe217",
   "metadata": {},
   "source": [
    "Recall that the sum of the eigenvalues is the total variance of the dataset.  That is "
   ]
  },
  {
   "cell_type": "code",
   "execution_count": 33,
   "id": "b3311bc3",
   "metadata": {},
   "outputs": [
    {
     "data": {
      "text/plain": [
       "3.3062572706935125"
      ]
     },
     "execution_count": 33,
     "metadata": {},
     "output_type": "execute_result"
    }
   ],
   "source": [
    "total_var = sum(np.diag(Sigma))\n",
    "total_var"
   ]
  },
  {
   "cell_type": "code",
   "execution_count": 34,
   "id": "47461992",
   "metadata": {},
   "outputs": [
    {
     "data": {
      "text/plain": [
       "3.3062572706935125"
      ]
     },
     "execution_count": 34,
     "metadata": {},
     "output_type": "execute_result"
    }
   ],
   "source": [
    "sum(evalues)"
   ]
  },
  {
   "cell_type": "markdown",
   "id": "23837f6a",
   "metadata": {},
   "source": [
    "And, we can find the proportion of the total variance attributred to each eigenvector.  For example, in just the direction of the largest eigenvalues, we capture over 95% of the total variance:"
   ]
  },
  {
   "cell_type": "code",
   "execution_count": 35,
   "id": "c5a06019",
   "metadata": {},
   "outputs": [
    {
     "data": {
      "text/plain": [
       "0.9536326686835204"
      ]
     },
     "execution_count": 35,
     "metadata": {},
     "output_type": "execute_result"
    }
   ],
   "source": [
    "evalues[0]/total_var"
   ]
  },
  {
   "cell_type": "markdown",
   "id": "f624a6f5",
   "metadata": {},
   "source": [
    "Let's project our data on to the largest eigenvector."
   ]
  },
  {
   "cell_type": "code",
   "execution_count": 36,
   "id": "9dc6f94a",
   "metadata": {},
   "outputs": [
    {
     "data": {
      "text/plain": [
       "array([ 2.39248833,  2.33720019,  2.45870221,  2.24887105,  2.40354596,\n",
       "        2.13855855,  2.3814307 ,  2.28204394,  2.32614256,  2.24887105,\n",
       "        2.31521682,  2.18265717,  2.33720019,  2.63536048,  2.64655   ,\n",
       "        2.39262021,  2.5361056 ,  2.39248833,  2.12750092,  2.32627445,\n",
       "        2.08327041,  2.31521682,  2.80109301,  2.07221278,  1.88449688,\n",
       "        2.13842666,  2.18265717,  2.29310156,  2.3814307 ,  2.16054192,\n",
       "        2.14948429,  2.28204394,  2.35944733,  2.46989172,  2.24887105,\n",
       "        2.55808897,  2.49187509,  2.40354596,  2.43658695,  2.28204394,\n",
       "        2.49187509,  2.35918356,  2.45870221,  2.1937148 ,  1.92872739,\n",
       "        2.33720019,  2.22688768,  2.35931545,  2.31521682,  2.37037307,\n",
       "       -0.92044777, -0.72167424, -1.13027892, -0.32425907, -0.86529152,\n",
       "       -0.76590475, -0.90939014,  0.38250591, -0.85423389, -0.18064179,\n",
       "        0.13950187, -0.4456292 , -0.3353167 , -0.95362065,  0.13963375,\n",
       "       -0.6333451 , -0.7437895 , -0.37941532, -0.83225052, -0.20275705,\n",
       "       -1.01983453, -0.26897093, -1.19662469, -0.96467828, -0.5560736 ,\n",
       "       -0.64440273, -1.06406504, -1.24072332, -0.75484712,  0.20584763,\n",
       "       -0.11442791, -0.01504115, -0.18064179, -1.37328296, -0.7437895 ,\n",
       "       -0.69955898, -0.9315054 , -0.72180613, -0.34624244, -0.30214381,\n",
       "       -0.68863324, -0.84317626, -0.29108619,  0.37144828, -0.47880209,\n",
       "       -0.4456292 , -0.45668683, -0.5560736 ,  0.69172383, -0.3683577 ,\n",
       "       -2.20141807, -1.37328296, -2.13520419, -1.84810153, -2.03581743,\n",
       "       -2.83091154, -0.79907763, -2.54380888, -2.09110557, -2.26763195,\n",
       "       -1.31799482, -1.57205649, -1.73765714, -1.29601145, -1.36222534,\n",
       "       -1.51676835, -1.73765714, -2.84183728, -3.17330234, -1.32918434,\n",
       "       -1.91431541, -1.16345181, -2.95241356, -1.17450944, -1.90325778,\n",
       "       -2.2124757 , -1.06406504, -1.14133655, -1.85915916, -2.03581743,\n",
       "       -2.35609298, -2.54367699, -1.85915916, -1.36222534, -1.88127441,\n",
       "       -2.33397772, -1.79281339, -1.72659951, -1.04194979, -1.62721274,\n",
       "       -1.82598627, -1.32905245, -1.37328296, -2.11308894, -1.90325778,\n",
       "       -1.43949684, -1.29601145, -1.43949684, -1.59403986, -1.34011008])"
      ]
     },
     "execution_count": 36,
     "metadata": {},
     "output_type": "execute_result"
    }
   ],
   "source": [
    "coords_along_eig0 = evectors[:,0].T.dot(centered_data.T)\n",
    "coords_along_eig0"
   ]
  },
  {
   "cell_type": "markdown",
   "id": "6f84df4c",
   "metadata": {},
   "source": [
    "Observe that now, we now have a 1 dimensional representation of our data that captures about 95% of the total variance of the original data set."
   ]
  },
  {
   "cell_type": "code",
   "execution_count": 37,
   "id": "67f6b582",
   "metadata": {},
   "outputs": [
    {
     "data": {
      "text/plain": [
       "(150,)"
      ]
     },
     "execution_count": 37,
     "metadata": {},
     "output_type": "execute_result"
    }
   ],
   "source": [
    "coords_along_eig0.shape"
   ]
  },
  {
   "cell_type": "markdown",
   "id": "cb61a6aa",
   "metadata": {},
   "source": [
    "It can be helpful to visuzlize the data projected on to the eigenvector.  Below, we plot the centered data in blue and the projected data in red"
   ]
  },
  {
   "cell_type": "code",
   "execution_count": 38,
   "id": "0448c68e",
   "metadata": {},
   "outputs": [
    {
     "data": {
      "text/plain": [
       "Text(0.5, 1.0, 'Scatter plot of centered and PCA-transformed data')"
      ]
     },
     "execution_count": 38,
     "metadata": {},
     "output_type": "execute_result"
    },
    {
     "data": {
      "image/png": "[encoded data removed]",
      "text/plain": [
       "<Figure size 432x288 with 1 Axes>"
      ]
     },
     "metadata": {
      "needs_background": "light"
     },
     "output_type": "display_data"
    }
   ],
   "source": [
    "coords_along_eig0 = evectors[:,0].T.dot(centered_data.T)\n",
    "\n",
    "projected_along_eig0 = np.zeros((n,2))\n",
    "for i in range(len(coords_along_eig0)):\n",
    "    projected_along_eig0[i,:] = coords_along_eig0[i]*evectors[:,0]\n",
    "\n",
    "pjdev0 = projected_along_eig0\n",
    "# plot of centered data and its projection onto the first principial component (evec corresponding to largest eval)\n",
    "fig = plt.figure()\n",
    "ax = fig.add_subplot(111)\n",
    "ax.scatter(centered_data[:,0], centered_data[:,1], s=10, c='b', marker='s', label='centered data')\n",
    "ax.scatter(pjdev0[:,0], pjdev0[:,1], s=10, c='r', marker='x', label='1-dimensional pca-transformed data')\n",
    "plt.xlabel('X1')\n",
    "plt.ylabel('X2')\n",
    "plt.xlim(-3,3)\n",
    "plt.ylim(-3,3)\n",
    "plt.legend(loc='upper left')\n",
    "plt.title('Scatter plot of centered and PCA-transformed data')"
   ]
  },
  {
   "cell_type": "markdown",
   "id": "5feab7b0",
   "metadata": {},
   "source": [
    "And we can also look at what would happen if we projected on to the other eigenvector"
   ]
  },
  {
   "cell_type": "code",
   "execution_count": 39,
   "id": "e55adf7c",
   "metadata": {},
   "outputs": [
    {
     "data": {
      "text/plain": [
       "Text(0.5, 1.0, 'Scatter plot of centered and PCA-transformed data')"
      ]
     },
     "execution_count": 39,
     "metadata": {},
     "output_type": "execute_result"
    },
    {
     "data": {
      "image/png": "[encoded data removed]",
      "text/plain": [
       "<Figure size 432x288 with 1 Axes>"
      ]
     },
     "metadata": {
      "needs_background": "light"
     },
     "output_type": "display_data"
    }
   ],
   "source": [
    "coords_along_eig1 = evectors[:,1].T.dot(centered_data.T)\n",
    "\n",
    "projected_along_eig1 = np.zeros((n,2))\n",
    "for i in range(len(coords_along_eig1)):\n",
    "    projected_along_eig1[i,:] = coords_along_eig1[i]*evectors[:,1]\n",
    "\n",
    "pjdev1 = projected_along_eig1\n",
    "# plot of centered data and its projection onto the first principial component (evec corresponding to largest eval)\n",
    "fig = plt.figure()\n",
    "ax = fig.add_subplot(111)\n",
    "ax.scatter(centered_data[:,0], centered_data[:,1], s=10, c='b', marker='s', label='centered data')\n",
    "ax.scatter(pjdev0[:,0], pjdev0[:,1], s=10, c='r', marker='x', label='1-dimensional pca-transformed data')\n",
    "ax.scatter(pjdev1[:,0], pjdev1[:,1], s=10, c='c', marker='x', label='1-dimensional transformed data onto evec 1')\n",
    "plt.xlabel('X1')\n",
    "plt.ylabel('X2')\n",
    "plt.xlim(-3,3)\n",
    "plt.ylim(-3,3)\n",
    "plt.legend(loc='upper left')\n",
    "plt.title('Scatter plot of centered and PCA-transformed data')"
   ]
  },
  {
   "cell_type": "markdown",
   "id": "93570b3a",
   "metadata": {},
   "source": [
    "Note that we don't just have to project on to one of the vectors, we can project on to multiple axes."
   ]
  },
  {
   "cell_type": "code",
   "execution_count": 40,
   "id": "a82b7eb9",
   "metadata": {},
   "outputs": [
    {
     "data": {
      "text/plain": [
       "(2, 150)"
      ]
     },
     "execution_count": 40,
     "metadata": {},
     "output_type": "execute_result"
    }
   ],
   "source": [
    "coords_in_evec_axes = evectors.T.dot(centered_data.T)\n",
    "coords_in_evec_axes.shape"
   ]
  },
  {
   "cell_type": "code",
   "execution_count": 41,
   "id": "1dc92787",
   "metadata": {},
   "outputs": [
    {
     "data": {
      "text/plain": [
       "Text(0.5, 1.0, 'scatter plot of transformed data with eigenvectors as axes')"
      ]
     },
     "execution_count": 41,
     "metadata": {},
     "output_type": "execute_result"
    },
    {
     "data": {
      "image/png": "[encoded data removed]",
      "text/plain": [
       "<Figure size 432x288 with 1 Axes>"
      ]
     },
     "metadata": {
      "needs_background": "light"
     },
     "output_type": "display_data"
    }
   ],
   "source": [
    "plt.scatter(coords_in_evec_axes[0,:], coords_in_evec_axes[1,:])\n",
    "plt.xlabel('PC0 (evec corresponding to largest eval of Sigma) ')\n",
    "plt.ylabel('PC1 (evec corresponding to second largest eval of Sigma) ')\n",
    "plt.xlim(-3,3)\n",
    "plt.ylim(-3,3)\n",
    "plt.title('scatter plot of transformed data with eigenvectors as axes')"
   ]
  },
  {
   "cell_type": "markdown",
   "id": "3aa9831a",
   "metadata": {},
   "source": [
    "### PCA in the wild\n",
    "\n",
    "PCA is one of the most popular dimensionality reduction algorithms.  So, it is natrual to assume that it would be in all the standard libraries.  So, let's look at how to use PCA in scikit-learn!"
   ]
  },
  {
   "cell_type": "code",
   "execution_count": 42,
   "id": "21d2fade",
   "metadata": {},
   "outputs": [],
   "source": [
    "from sklearn.decomposition import PCA\n",
    "pca = PCA(n_components=2)\n",
    "pca_transformed_D = pca.fit_transform(D)"
   ]
  },
  {
   "cell_type": "markdown",
   "id": "3463ad55",
   "metadata": {},
   "source": [
    "After we run PCA, we can get some info about what the decomposition did:"
   ]
  },
  {
   "cell_type": "code",
   "execution_count": 43,
   "id": "b85d1caf",
   "metadata": {},
   "outputs": [
    {
     "data": {
      "text/plain": [
       "array([0.95363267, 0.04636733])"
      ]
     },
     "execution_count": 43,
     "metadata": {},
     "output_type": "execute_result"
    }
   ],
   "source": [
    "pca.explained_variance_ratio_"
   ]
  },
  {
   "cell_type": "markdown",
   "id": "5e11aceb",
   "metadata": {},
   "source": [
    "**Question**: *Any idea about what those mean?*\n",
    "\n",
    "Yep, those are the propotion of the variance in the direction of each principal component."
   ]
  },
  {
   "cell_type": "code",
   "execution_count": 44,
   "id": "4b316967",
   "metadata": {},
   "outputs": [
    {
     "name": "stdout",
     "output_type": "stream",
     "text": [
      "0.9536326686835204\n",
      "0.046367331316479625\n"
     ]
    }
   ],
   "source": [
    "print(evalues[0] / sum(evalues))\n",
    "print(evalues[1] / sum(evalues))"
   ]
  },
  {
   "cell_type": "markdown",
   "id": "9f7f70d4",
   "metadata": {},
   "source": [
    "We can also get the eigenvectors:"
   ]
  },
  {
   "cell_type": "code",
   "execution_count": 45,
   "id": "1ce64b18",
   "metadata": {},
   "outputs": [
    {
     "data": {
      "text/plain": [
       "array([[-0.11057628,  0.99386764],\n",
       "       [ 0.99386764,  0.11057628]])"
      ]
     },
     "execution_count": 45,
     "metadata": {},
     "output_type": "execute_result"
    }
   ],
   "source": [
    "pca.components_ "
   ]
  },
  {
   "cell_type": "markdown",
   "id": "a9a04ad7",
   "metadata": {},
   "source": [
    "**WARNING**: note that for `pca.components_` the eigenvectors are listed row wise in decreasing order of eigenvalue magnitudes.  So we have:\n",
    "- 0th eigenvector is [-0.11057628,  0.99386764] \n",
    "- 1st eigenvector is [ 0.99386764,  0.11057628]\n",
    "\n",
    "If we compare with our eigenvalues, we get:"
   ]
  },
  {
   "cell_type": "code",
   "execution_count": 46,
   "id": "bada339f",
   "metadata": {},
   "outputs": [
    {
     "data": {
      "text/plain": [
       "array([[ 0.11057628, -0.99386764],\n",
       "       [-0.99386764, -0.11057628]])"
      ]
     },
     "execution_count": 46,
     "metadata": {},
     "output_type": "execute_result"
    }
   ],
   "source": [
    "evectors"
   ]
  },
  {
   "cell_type": "markdown",
   "id": "3648e37c",
   "metadata": {},
   "source": [
    "Which are listed column wise.  Recall that they are also in decreasing order of eignvalue magnitudes, however, we processed the results from the eigenvalue decomposition so that it was the case.  So we have:\n",
    "\n",
    "- 0th eigenvector is [0.11057628, -0.99386764]\n",
    "- 1st eigenvector is [-0.99386764, -0.11057628]\n",
    "\n",
    "Notice the difference? ... the vectors are facing opposite directions.  This is okay though.  Notice that we select the 0th eigenvector because it maximizes variance.  And therefore, the opposite would also maximize variance.  Then we get the next eigenvector, which maximizes variance subject to being ortogonal to the first direction.  As before the opposite direction has the same property!  Note that if that all sounded like a bunch of gobbly-gook, that is okay.  But, if you are interested in exploring these properties futher, we do that in the Grad Data Mining course... which will be offered in the Fall!\n",
    "\n",
    "We can, however, explore this idea a little further with pictures."
   ]
  },
  {
   "cell_type": "code",
   "execution_count": 47,
   "id": "b663f35a",
   "metadata": {},
   "outputs": [
    {
     "data": {
      "image/png": "[encoded data removed]",
      "text/plain": [
       "<Figure size 432x288 with 1 Axes>"
      ]
     },
     "metadata": {
      "needs_background": "light"
     },
     "output_type": "display_data"
    }
   ],
   "source": [
    "fig = plt.figure()\n",
    "ax = fig.add_subplot(111)\n",
    "ax.scatter(coords_in_evec_axes[0,:], coords_in_evec_axes[1,:], s=10, c='b', marker='s', label='transformed data using pca')\n",
    "ax.scatter(pca_transformed_D[:,0], pca_transformed_D[:,1], s=10, c='r', marker='x', label='transformed data using sklearn PCA')\n",
    "plt.xlabel('PC1')\n",
    "plt.ylabel('PC2')\n",
    "plt.xlim(-3,3)\n",
    "plt.ylim(-3,3)\n",
    "plt.legend(loc='lower right')\n",
    "plt.title('Scatter plot of centered and sklearn PCA-transformed data using 2 principal components')"
   ]
  },
  {
   "cell_type": "markdown",
   "id": "98cbde15",
   "metadata": {},
   "source": [
    "So, we can see that the blue points and the red points are reflectison of eachother.  That is becuase the directions we projected on to are the opposite of the directions that sklearn projected on to.  To use the same directions, just multiply each coordinate by -1"
   ]
  },
  {
   "cell_type": "code",
   "execution_count": 48,
   "id": "19045c13",
   "metadata": {},
   "outputs": [
    {
     "data": {
      "image/png": "[encoded data removed]",
      "text/plain": [
       "<Figure size 432x288 with 1 Axes>"
      ]
     },
     "metadata": {
      "needs_background": "light"
     },
     "output_type": "display_data"
    }
   ],
   "source": [
    "fig = plt.figure()\n",
    "ax = fig.add_subplot(111)\n",
    "ax.scatter(-1*coords_in_evec_axes[0,:], -1*coords_in_evec_axes[1,:], s=10, c='b', marker='s', label='transformed data using pca')\n",
    "ax.scatter(pca_transformed_D[:,0], pca_transformed_D[:,1], s=10, c='r', marker='x', label='transformed data using sklearn PCA')\n",
    "plt.xlabel('PC1')\n",
    "plt.ylabel('PC2')\n",
    "plt.xlim(-3,3)\n",
    "plt.ylim(-3,3)\n",
    "plt.legend(loc='lower right')\n",
    "plt.title('Scatter plot of centered and sklearn PCA-transformed data using 2 principal components')"
   ]
  },
  {
   "cell_type": "markdown",
   "id": "0a9ec62b",
   "metadata": {},
   "source": [
    "One other thing that we discussed a few times is that once we have our transformed points, we have a representation in which the variance in each directdion is independed.  We can confim that now:"
   ]
  },
  {
   "cell_type": "code",
   "execution_count": 49,
   "id": "c5a3f549",
   "metadata": {},
   "outputs": [
    {
     "data": {
      "text/plain": [
       "array([[3.15295494e+00, 4.76874319e-17],\n",
       "       [4.76874319e-17, 1.53302326e-01]])"
      ]
     },
     "execution_count": 49,
     "metadata": {},
     "output_type": "execute_result"
    }
   ],
   "source": [
    "np.cov(coords_in_evec_axes)"
   ]
  },
  {
   "cell_type": "markdown",
   "id": "a965ec29",
   "metadata": {},
   "source": [
    "(and we can observe that the off diagonal values are numerically 0!)"
   ]
  },
  {
   "cell_type": "markdown",
   "id": "68af5476",
   "metadata": {},
   "source": [
    "### Using a real data set\n",
    "\n",
    "Now, let's look at using PCA to visualize a dataset with more than 3 dimensions.  Recall that we started off looking at specific features of the iris data set in 2D. That data set has 4 features, which made it hard to plot.  But we could instead use PCA to visualize the dataset in 2D!"
   ]
  },
  {
   "cell_type": "code",
   "execution_count": 50,
   "id": "85ca64d6",
   "metadata": {},
   "outputs": [
    {
     "data": {
      "text/plain": [
       "array([0.92461872, 0.05306648])"
      ]
     },
     "execution_count": 50,
     "metadata": {},
     "output_type": "execute_result"
    }
   ],
   "source": [
    "D_iris = load_iris()['data']\n",
    "pca = PCA(n_components=2)\n",
    "pca_transformed_D_iris = pca.fit_transform(D_iris)\n",
    "pca.explained_variance_ratio_"
   ]
  },
  {
   "cell_type": "code",
   "execution_count": 51,
   "id": "e11f9519",
   "metadata": {},
   "outputs": [
    {
     "data": {
      "text/plain": [
       "(150, 4)"
      ]
     },
     "execution_count": 51,
     "metadata": {},
     "output_type": "execute_result"
    }
   ],
   "source": [
    "D_iris.shape"
   ]
  },
  {
   "cell_type": "code",
   "execution_count": 52,
   "id": "407b7e96",
   "metadata": {},
   "outputs": [
    {
     "data": {
      "text/plain": [
       "(150, 2)"
      ]
     },
     "execution_count": 52,
     "metadata": {},
     "output_type": "execute_result"
    }
   ],
   "source": [
    "pca_transformed_D_iris.shape"
   ]
  },
  {
   "cell_type": "code",
   "execution_count": 53,
   "id": "a09b5628",
   "metadata": {},
   "outputs": [
    {
     "data": {
      "text/plain": [
       "Text(0.5, 1.0, 'PCA-transformed iris data using 2 principal components')"
      ]
     },
     "execution_count": 53,
     "metadata": {},
     "output_type": "execute_result"
    },
    {
     "data": {
      "image/png": "[encoded data removed]",
      "text/plain": [
       "<Figure size 432x288 with 1 Axes>"
      ]
     },
     "metadata": {
      "needs_background": "light"
     },
     "output_type": "display_data"
    }
   ],
   "source": [
    "plt.scatter(pca_transformed_D_iris[:, 0], pca_transformed_D_iris[:, 1])\n",
    "plt.xlabel('PC0')\n",
    "plt.ylabel('PC1')\n",
    "plt.title('PCA-transformed iris data using 2 principal components')"
   ]
  },
  {
   "cell_type": "markdown",
   "id": "9959add6",
   "metadata": {},
   "source": [
    "Cool!!  Aside from visualizing, we can also run all the cool algos that we have studied so far (and will study for the rest of the semester) on the lower dimensional dataset!!  We still captured most of the variance of the data but with the reduced dimension, we have some algorithmic speedups!"
   ]
  }
 ],
 "metadata": {
  "kernelspec": {
   "display_name": "Python 3 (ipykernel)",
   "language": "python",
   "name": "python3"
  },
  "language_info": {
   "codemirror_mode": {
    "name": "ipython",
    "version": 3
   },
   "file_extension": ".py",
   "mimetype": "text/x-python",
   "name": "python",
   "nbconvert_exporter": "python",
   "pygments_lexer": "ipython3",
   "version": "3.8.12"
  }
 },
 "nbformat": 4,
 "nbformat_minor": 5
}
